{
  "nbformat": 4,
  "nbformat_minor": 0,
  "metadata": {
    "colab": {
      "name": "Pyfiglet.ipynb",
      "provenance": [],
      "authorship_tag": "ABX9TyMoguXRrxNhSDQ7PTC19Wc2",
      "include_colab_link": true
    },
    "kernelspec": {
      "name": "python3",
      "display_name": "Python 3"
    },
    "language_info": {
      "name": "python"
    }
  },
  "cells": [
    {
      "cell_type": "markdown",
      "metadata": {
        "id": "view-in-github",
        "colab_type": "text"
      },
      "source": [
        "<a href=\"https://colab.research.google.com/github/mnjaaga/Python-Intro_2021/blob/main/Pyfiglet.ipynb\" target=\"_parent\"><img src=\"https://colab.research.google.com/assets/colab-badge.svg\" alt=\"Open In Colab\"/></a>"
      ]
    },
    {
      "cell_type": "code",
      "metadata": {
        "colab": {
          "base_uri": "https://localhost:8080/"
        },
        "id": "TaFePDZQtsRd",
        "outputId": "e70746c4-74f7-4268-ff0b-b05e9493eeec"
      },
      "source": [
        "def pypart(n):\n",
        "  for i in range(0,n):\n",
        "    for j in range(0, i+1):\n",
        "      print(\"*\", end=\"\")\n",
        "    print(\"\\r\")  \n",
        "\n",
        "n=5\n",
        "pypart(n)    "
      ],
      "execution_count": null,
      "outputs": [
        {
          "output_type": "stream",
          "text": [
            "*\r\n",
            "**\r\n",
            "***\r\n",
            "****\r\n",
            "*****\r\n"
          ],
          "name": "stdout"
        }
      ]
    },
    {
      "cell_type": "code",
      "metadata": {
        "colab": {
          "base_uri": "https://localhost:8080/"
        },
        "id": "uzr-VAh9uuQZ",
        "outputId": "0b474392-f7b8-44e3-9613-74e155168069"
      },
      "source": [
        "pip install pyfiglet==0.7"
      ],
      "execution_count": 2,
      "outputs": [
        {
          "output_type": "stream",
          "text": [
            "Collecting pyfiglet==0.7\n",
            "\u001b[?25l  Downloading https://files.pythonhosted.org/packages/48/3f/a2f372d769fd84d7d010d201cdd1d48074b2bbc61601052014a9897134db/pyfiglet-0.7.tar.gz (691kB)\n",
            "\u001b[K     |████████████████████████████████| 696kB 3.6MB/s \n",
            "\u001b[?25hBuilding wheels for collected packages: pyfiglet\n",
            "  Building wheel for pyfiglet (setup.py) ... \u001b[?25l\u001b[?25hdone\n",
            "  Created wheel for pyfiglet: filename=pyfiglet-0.7-cp37-none-any.whl size=847077 sha256=1b1fa6995be62acf54ae77ad6bbb8cfa933738988fc65b11f17a3519cdae3d24\n",
            "  Stored in directory: /root/.cache/pip/wheels/03/d6/83/7cffc7306eb9098414f1d0227e0ef65b6cbbbbea1e79412c09\n",
            "Successfully built pyfiglet\n",
            "Installing collected packages: pyfiglet\n",
            "Successfully installed pyfiglet-0.7\n"
          ],
          "name": "stdout"
        }
      ]
    },
    {
      "cell_type": "code",
      "metadata": {
        "colab": {
          "base_uri": "https://localhost:8080/"
        },
        "id": "xQU8VF6huZp3",
        "outputId": "21f72333-1798-4413-a1f7-49179729deed"
      },
      "source": [
        "import pyfiglet\n",
        "\n",
        "ascii_banner = pyfiglet.figlet_format(\"Python is Fun!!\")\n",
        "print(ascii_banner)"
      ],
      "execution_count": 3,
      "outputs": [
        {
          "output_type": "stream",
          "text": [
            " ____        _   _                   _       _____            _ _ \n",
            "|  _ \\ _   _| |_| |__   ___  _ __   (_)___  |  ___|   _ _ __ | | |\n",
            "| |_) | | | | __| '_ \\ / _ \\| '_ \\  | / __| | |_ | | | | '_ \\| | |\n",
            "|  __/| |_| | |_| | | | (_) | | | | | \\__ \\ |  _|| |_| | | | |_|_|\n",
            "|_|    \\__, |\\__|_| |_|\\___/|_| |_| |_|___/ |_|   \\__,_|_| |_(_|_)\n",
            "       |___/                                                      \n",
            "\n"
          ],
          "name": "stdout"
        }
      ]
    },
    {
      "cell_type": "code",
      "metadata": {
        "colab": {
          "base_uri": "https://localhost:8080/"
        },
        "id": "YbQ1gDq_r7ap",
        "outputId": "b230980f-cfd1-47cf-a01c-a3a59a6202bf"
      },
      "source": [
        "import pyfiglet\n",
        "\n",
        "ascii_banner = pyfiglet.figlet_format(\"Multiplication Table\")\n",
        "print(ascii_banner)\n",
        "\n",
        "for i in range(1,13):\n",
        "     print(i, end=\"\\t\")\n",
        "print()\n",
        "print(\"_____________________________________________________________________________________________\\n\")\n",
        "\n",
        "for j in range(1,13):\n",
        "    for k in range(1, 13):\n",
        "        print(j * k, end=\"\\t\")\n",
        "    print(\"\\n\")\n",
        "\n",
        "\n",
        "\n",
        "\n",
        "    "
      ],
      "execution_count": 2,
      "outputs": [
        {
          "output_type": "stream",
          "text": [
            " __  __       _ _   _       _ _           _   _               _____     _     _      \n",
            "|  \\/  |_   _| | |_(_)_ __ | (_) ___ __ _| |_(_) ___  _ __   |_   _|_ _| |__ | | ___ \n",
            "| |\\/| | | | | | __| | '_ \\| | |/ __/ _` | __| |/ _ \\| '_ \\    | |/ _` | '_ \\| |/ _ \\\n",
            "| |  | | |_| | | |_| | |_) | | | (_| (_| | |_| | (_) | | | |   | | (_| | |_) | |  __/\n",
            "|_|  |_|\\__,_|_|\\__|_| .__/|_|_|\\___\\__,_|\\__|_|\\___/|_| |_|   |_|\\__,_|_.__/|_|\\___|\n",
            "                     |_|                                                             \n",
            "\n",
            "1\t2\t3\t4\t5\t6\t7\t8\t9\t10\t11\t12\t\n",
            "_____________________________________________________________________________________________\n",
            "\n",
            "1\t2\t3\t4\t5\t6\t7\t8\t9\t10\t11\t12\t\n",
            "\n",
            "2\t4\t6\t8\t10\t12\t14\t16\t18\t20\t22\t24\t\n",
            "\n",
            "3\t6\t9\t12\t15\t18\t21\t24\t27\t30\t33\t36\t\n",
            "\n",
            "4\t8\t12\t16\t20\t24\t28\t32\t36\t40\t44\t48\t\n",
            "\n",
            "5\t10\t15\t20\t25\t30\t35\t40\t45\t50\t55\t60\t\n",
            "\n",
            "6\t12\t18\t24\t30\t36\t42\t48\t54\t60\t66\t72\t\n",
            "\n",
            "7\t14\t21\t28\t35\t42\t49\t56\t63\t70\t77\t84\t\n",
            "\n",
            "8\t16\t24\t32\t40\t48\t56\t64\t72\t80\t88\t96\t\n",
            "\n",
            "9\t18\t27\t36\t45\t54\t63\t72\t81\t90\t99\t108\t\n",
            "\n",
            "10\t20\t30\t40\t50\t60\t70\t80\t90\t100\t110\t120\t\n",
            "\n",
            "11\t22\t33\t44\t55\t66\t77\t88\t99\t110\t121\t132\t\n",
            "\n",
            "12\t24\t36\t48\t60\t72\t84\t96\t108\t120\t132\t144\t\n",
            "\n"
          ],
          "name": "stdout"
        }
      ]
    },
    {
      "cell_type": "code",
      "metadata": {
        "colab": {
          "base_uri": "https://localhost:8080/"
        },
        "id": "1251aUvxzLW1",
        "outputId": "91aa2ac7-234c-44a3-904f-f5b5da124cc1"
      },
      "source": [
        "#Low-Level: Your code shows two '|' after each number because that's what you're telling it to do (one of them is passed to print() right after num, and one of them is added by the use of end='|', which tells print() to add a '|' at the end of the printed string).\n",
        "\n",
        "# Using end='' avoids the second '|', but you still end up with a pipe character at the end of each row from the print() call.\n",
        "\n",
        "# To get '|' between items, but not at the end of the row, you need to handle the last item in each row specially (or, better use \" | \".join(row) to add the separators automatically).\n",
        "\n",
        "# High-Level: You're likely not solving this problem the way it was intended to be solved.\n",
        "\n",
        "# Your answer hard-codes the multiplication table, but you could be generating it as part of the loop, like:\n",
        "\n",
        "# Store the size of the table here \n",
        "# So it's easy to change later\n",
        "maximum = 3\n",
        "# Make a row for each y value in [1, maximum]\n",
        "for y in range(1, maximum + 1):\n",
        "    # Print all x * y except the last one, with a separator afterwards and no newline\n",
        "    for x in range(1, maximum):\n",
        "        print(x * y, end=' | ')\n",
        "    # Print the last product, without a separator, and with a newline\n",
        "    print(y * maximum)"
      ],
      "execution_count": null,
      "outputs": [
        {
          "output_type": "stream",
          "text": [
            "1 | 2 | 3\n",
            "2 | 4 | 6\n",
            "3 | 6 | 9\n"
          ],
          "name": "stdout"
        }
      ]
    }
  ]
}