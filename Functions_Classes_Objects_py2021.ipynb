{
 "cells": [
  {
   "cell_type": "markdown",
   "metadata": {},
   "source": [
    "# Functions"
   ]
  },
  {
   "cell_type": "code",
   "execution_count": 6,
   "metadata": {},
   "outputs": [],
   "source": [
    "def function_nothing():\n",
    "    \"\"\"This function does nothing\"\"\"\n",
    "    pass"
   ]
  },
  {
   "cell_type": "code",
   "execution_count": 9,
   "metadata": {},
   "outputs": [
    {
     "name": "stdout",
     "output_type": "stream",
     "text": [
      "Habari, Monic. siku ya leo!\n"
     ]
    }
   ],
   "source": [
    "def greetings(name):\n",
    "   \n",
    "    \"\"\"\n",
    "    This function greetings to\n",
    "    the person passed in as\n",
    "    a parameter\n",
    "    \"\"\"\n",
    "    print(\"Habari, \" + name + \". siku ya leo!\")\n",
    "    \n",
    "greetings(\"Monic\")    "
   ]
  },
  {
   "cell_type": "code",
   "execution_count": 10,
   "metadata": {},
   "outputs": [
    {
     "name": "stdout",
     "output_type": "stream",
     "text": [
      "\n",
      "    This function greetings to\n",
      "    the person passed in as\n",
      "    a parameter\n",
      "    \n"
     ]
    }
   ],
   "source": [
    "print(greetings.__doc__)"
   ]
  },
  {
   "cell_type": "markdown",
   "metadata": {},
   "source": [
    "# **kwargs"
   ]
  },
  {
   "cell_type": "code",
   "execution_count": 11,
   "metadata": {},
   "outputs": [
    {
     "name": "stdout",
     "output_type": "stream",
     "text": [
      "His last name was: X\n"
     ]
    }
   ],
   "source": [
    "def my_function(**activist):\n",
    "    print(\"His last name was: \" + activist[\"lname\"])\n",
    "my_function(fname = \"Malcolm\", lname = \"X\")\n"
   ]
  },
  {
   "cell_type": "markdown",
   "metadata": {},
   "source": [
    "Define a function calculate_minutes so that given an amount of time specified in hours and minutes, the function returns\n",
    "\n",
    "the total number of minutes (e.g. given 3 hours and 15 minutes, it should return 195 minutes)"
   ]
  },
  {
   "cell_type": "code",
   "execution_count": 12,
   "metadata": {},
   "outputs": [],
   "source": [
    "#There are 60 minutes in an hour\n",
    "#minutes = no. of hours * 60\n",
    "# remember paranthesis define order of precedence\n",
    "\n",
    "\n",
    "def calculate_minutes(x,y):\n",
    "    total_minutes = (x*60)+ y\n",
    "    return (\"There are \" + str(total_minutes) + \" minutes in \" + str(x) + \" hours \" + str(y) + \" minutes\")"
   ]
  },
  {
   "cell_type": "code",
   "execution_count": 13,
   "metadata": {},
   "outputs": [
    {
     "name": "stdout",
     "output_type": "stream",
     "text": [
      "Enter the number of hours: 3\n",
      "Enter the number of minutes: 15\n"
     ]
    },
    {
     "data": {
      "text/plain": [
       "'There are 195 minutes in 3 hours 15 minutes'"
      ]
     },
     "execution_count": 13,
     "metadata": {},
     "output_type": "execute_result"
    }
   ],
   "source": [
    "masaa = int(input(\"Enter the number of hours: \"))\n",
    "dakika = int(input(\"Enter the number of minutes: \"))\n",
    "\n",
    "calculate_minutes(masaa, dakika)"
   ]
  },
  {
   "cell_type": "markdown",
   "metadata": {},
   "source": [
    "# Classes"
   ]
  },
  {
   "cell_type": "code",
   "execution_count": 14,
   "metadata": {},
   "outputs": [],
   "source": [
    "#define a class\n",
    "class Student:\n",
    "    pass"
   ]
  },
  {
   "cell_type": "code",
   "execution_count": 15,
   "metadata": {},
   "outputs": [
    {
     "name": "stdout",
     "output_type": "stream",
     "text": [
      "neel@email.com\n",
      "linda@email.com\n"
     ]
    }
   ],
   "source": [
    "#define a class\n",
    "class Student:\n",
    "    pass\n",
    "\n",
    "#create an object of a class\n",
    "\n",
    "std_1 = Student()\n",
    "std_2 = Student()\n",
    "\n",
    "#Define instance variable (unique for each object)\n",
    "\n",
    "std_1.first =\"Neel\"\n",
    "std_1.las = \"Sema\"\n",
    "std_1.email = \"neel@email.com\"\n",
    "std_1.score = 55\n",
    "\n",
    "std_2.first =\"Linda\"\n",
    "std_2.las = \"Doe\"\n",
    "std_2.email = \"linda@email.com\"\n",
    "std_2.score = 80\n",
    "\n",
    "#to print the emails of the students\n",
    "\n",
    "print(std_1.email)\n",
    "print(std_2.email)"
   ]
  },
  {
   "cell_type": "markdown",
   "metadata": {},
   "source": [
    "* The **properties** that all Student objects must have are defined in a method called **.\\__init__().** \n",
    "\n",
    "\n",
    "* Every time a new **Student object is created, .\\__init__() sets the initial state of the object**\n",
    "\n",
    "  **by assigning the values of the object’s properties.** \n",
    "\n",
    "\n",
    "* That is, .\\__init__() **initializes** each new instance of the class.\n"
   ]
  },
  {
   "cell_type": "code",
   "execution_count": 16,
   "metadata": {},
   "outputs": [
    {
     "name": "stdout",
     "output_type": "stream",
     "text": [
      "Linda\n",
      "Kick\n",
      "Linda Doe\n"
     ]
    }
   ],
   "source": [
    "#what if you don't want to type all these? its time consuming & prone to errors\n",
    "\n",
    "#init (constructor, they receive method automatically)\n",
    "\n",
    "#\n",
    "\n",
    "class Student:\n",
    "    def __init__(self, first, last, score):\n",
    "        #instance variables\n",
    "        #self is an instance, its the same as writing std_2.first =\"Linda\"\n",
    "        self.first = first\n",
    "        self.last = last\n",
    "        self.score = score\n",
    "        self.email = first + '.' + last + '@email.com'\n",
    "\n",
    "std_1 = Student(\"Linda\", \"Doe\", 85)\n",
    "std_2 = Student(\"Lisa\", \"Kick\", 90)\n",
    "\n",
    "print(std_1.first)\n",
    "print(std_2.last)\n",
    "\n",
    "#to print first and last name\n",
    "\n",
    "print('{} {}'.format(std_1.first, std_1.last))"
   ]
  },
  {
   "cell_type": "code",
   "execution_count": 17,
   "metadata": {},
   "outputs": [
    {
     "name": "stdout",
     "output_type": "stream",
     "text": [
      "Linda\n",
      "Kick\n",
      "Linda Doe\n"
     ]
    }
   ],
   "source": [
    "#instead of running line 24 above, you can create a method that allows us to put the fullname in one place\n",
    "\n",
    "class Student:\n",
    "    def __init__(self, first, last, score):\n",
    "        #self is an instance, its the same as writing std_2.first =\"Linda\"\n",
    "        self.first = first\n",
    "        self.last = last\n",
    "        self.score = score\n",
    "        self.email = first + '.' + last + '@email.com'\n",
    "        \n",
    "    def fullname(self):\n",
    "        print('{} {}'.format(self.first, self.last)) #self makes it work for all instances\n",
    "        \n",
    "\n",
    "std_1 = Student(\"Linda\", \"Doe\", 85)\n",
    "std_2 = Student(\"Lisa\", \"Kick\", 90)\n",
    "\n",
    "print(std_1.first)\n",
    "print(std_2.last)\n",
    "std_1.fullname() #paranthesis are required because fullname is a method in class Student\n"
   ]
  },
  {
   "cell_type": "code",
   "execution_count": 1,
   "metadata": {},
   "outputs": [
    {
     "name": "stdout",
     "output_type": "stream",
     "text": [
      "90\n",
      "94\n"
     ]
    }
   ],
   "source": [
    "#Class variables are shared amongst all instances of a class\n",
    "\n",
    "#class variables have the same value shared across all instances\n",
    "\n",
    "\n",
    "class Student:\n",
    "    ##class variable\n",
    "    score_raise = 1.05\n",
    "    def __init__(self, first, last, score):\n",
    "        #self is an instance, its the same as writing std_2.first =\"Linda\"\n",
    "        self.first = first\n",
    "        self.last = last\n",
    "        self.score = score\n",
    "        self.email = first + '.' + last + '@email.com'\n",
    "        \n",
    "    def fullname(self):\n",
    "        print('{} {}'.format(self.first, self.last)) #self makes it work for all instances\n",
    "    \n",
    "    def apply_raise(self):\n",
    "        self.score = int(self.score*1.05)\n",
    "\n",
    "std_1 = Student(\"Linda\", \"Doe\", 85)\n",
    "std_2 = Student(\"Lisa\", \"Kick\", 90)\n",
    "\n",
    "# print(std_1.score)\n",
    "# std_1.apply_raise()\n",
    "# print(std_1.score)\n",
    "\n",
    "\n",
    "#student 2\n",
    "\n",
    "print(std_2.score)\n",
    "std_2.apply_raise()\n",
    "print(std_2.score)\n",
    "\n",
    "#to print the dictionary of instance\n",
    "#gives the key value pairs\n",
    "#the class variable will not be in \n",
    "#print(std_2.__dict__)\n",
    "#print(Student.__dict__)"
   ]
  },
  {
   "cell_type": "code",
   "execution_count": null,
   "metadata": {},
   "outputs": [],
   "source": [
    "#Inheritance\n",
    "\n",
    "class Student:\n",
    "    \n",
    "    score_raise = 1.05\n",
    "    def __init__(self, first, last, score):\n",
    "        #self is an instance, its the same as writing std_2.first =\"Linda\"\n",
    "        self.first = first\n",
    "        self.last = last\n",
    "        self.score = score\n",
    "        self.email = first + '.' + last + '@email.com'\n",
    "        \n",
    "    def fullname(self):\n",
    "        print('{} {}'.format(self.first, self.last)) #self makes it work for all instances\n",
    "    \n",
    "    def apply_raise(self):\n",
    "        self.score = int(self.score*1.05)\n",
    "        \n",
    "class Smart(Student):\n",
    "    pass\n",
    "        \n",
    "\n",
    "std_1 = Smart(\"Linda\", \"Doe\", 85)\n",
    "std_2 = Student(\"Lisa\", \"Kick\", 90)\n",
    "\n",
    "print(std_1.email)\n",
    "\n",
    "#accessing the class variable\n",
    "std_1.score_raise"
   ]
  },
  {
   "cell_type": "code",
   "execution_count": null,
   "metadata": {},
   "outputs": [],
   "source": [
    "print(help(Smart))"
   ]
  },
  {
   "cell_type": "code",
   "execution_count": null,
   "metadata": {},
   "outputs": [],
   "source": [
    "#subclass class variable\n",
    "\n",
    "class Student:\n",
    "    \n",
    "    score_raise = 1.05\n",
    "    def __init__(self, first, last, score):\n",
    "        #self is an instance, its the same as writing std_2.first =\"Linda\"\n",
    "        self.first = first\n",
    "        self.last = last\n",
    "        self.score = score\n",
    "        self.email = first + '.' + last + '@email.com'\n",
    "        \n",
    "    def fullname(self):\n",
    "        print('{} {}'.format(self.first, self.last)) #self makes it work for all instances\n",
    "    \n",
    "    def apply_raise(self):\n",
    "        self.score = int(self.score*1.05)\n",
    "        \n",
    "class Smart(Student):\n",
    "    #changes to variables in sub-class do not impact parent class values\n",
    "    score_raise = 1.10\n",
    "    #pass\n",
    "    def __init__(self, first, last, score, prog_lang):\n",
    "        super().__init__(first, last, score)\n",
    "        self.prog_lang = prog_lang\n",
    "    \n",
    "        \n",
    "\n",
    "std_1 = Smart(\"Linda\", \"Doe\", 85, 'Python')\n",
    "\n",
    "\n",
    "print(std_1.prog_lang)"
   ]
  },
  {
   "cell_type": "code",
   "execution_count": null,
   "metadata": {},
   "outputs": [],
   "source": [
    "dir(std_1)"
   ]
  }
 ],
 "metadata": {
  "kernelspec": {
   "display_name": "Python 3",
   "language": "python",
   "name": "python3"
  },
  "language_info": {
   "codemirror_mode": {
    "name": "ipython",
    "version": 3
   },
   "file_extension": ".py",
   "mimetype": "text/x-python",
   "name": "python",
   "nbconvert_exporter": "python",
   "pygments_lexer": "ipython3",
   "version": "3.8.3"
  }
 },
 "nbformat": 4,
 "nbformat_minor": 4
}
